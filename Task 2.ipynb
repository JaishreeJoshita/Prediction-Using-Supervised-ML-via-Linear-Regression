{
 "cells": [
  {
   "cell_type": "markdown",
   "id": "02c69ecc",
   "metadata": {},
   "source": [
    "### Jaishree Joshita"
   ]
  },
  {
   "cell_type": "markdown",
   "id": "66e89e8d",
   "metadata": {},
   "source": [
    "### Task 2 - Prediction Using Unsupervised ML - "
   ]
  },
  {
   "cell_type": "code",
   "execution_count": null,
   "id": "9a6290df",
   "metadata": {},
   "outputs": [],
   "source": []
  },
  {
   "cell_type": "code",
   "execution_count": null,
   "id": "ab3baf44",
   "metadata": {},
   "outputs": [],
   "source": []
  }
 ],
 "metadata": {
  "kernelspec": {
   "display_name": "Python 3",
   "language": "python",
   "name": "python3"
  },
  "language_info": {
   "codemirror_mode": {
    "name": "ipython",
    "version": 3
   },
   "file_extension": ".py",
   "mimetype": "text/x-python",
   "name": "python",
   "nbconvert_exporter": "python",
   "pygments_lexer": "ipython3",
   "version": "3.8.8"
  }
 },
 "nbformat": 4,
 "nbformat_minor": 5
}
